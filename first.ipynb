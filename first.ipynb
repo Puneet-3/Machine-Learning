{
 "cells": [
  {
   "cell_type": "code",
   "execution_count": 20,
   "metadata": {},
   "outputs": [],
   "source": [
    "import pandas as pd # Importing pandas library for data manipulation\n",
    "import numpy as np # Importing numpy library for numerical operations\n",
    "import matplotlib.pyplot as plt # Importing matplotlib for plotting graphs\n",
    "import seaborn as sns # Importing seaborn for statistical data visualization"
   ]
  },
  {
   "cell_type": "code",
   "execution_count": 21,
   "metadata": {},
   "outputs": [
    {
     "data": {
      "application/vnd.microsoft.datawrangler.viewer.v0+json": {
       "columns": [
        {
         "name": "index",
         "rawType": "int64",
         "type": "integer"
        },
        {
         "name": "Country",
         "rawType": "object",
         "type": "string"
        },
        {
         "name": "Artist",
         "rawType": "object",
         "type": "string"
        },
        {
         "name": "Album",
         "rawType": "object",
         "type": "unknown"
        },
        {
         "name": "Genre",
         "rawType": "object",
         "type": "string"
        },
        {
         "name": "Release Year",
         "rawType": "float64",
         "type": "float"
        },
        {
         "name": "Monthly Listeners (Millions)",
         "rawType": "float64",
         "type": "float"
        },
        {
         "name": "Total Streams (Millions)",
         "rawType": "float64",
         "type": "float"
        },
        {
         "name": "Total Hours Streamed (Millions)",
         "rawType": "float64",
         "type": "float"
        },
        {
         "name": "Avg Stream Duration (Min)",
         "rawType": "float64",
         "type": "float"
        },
        {
         "name": "Platform Type",
         "rawType": "object",
         "type": "string"
        },
        {
         "name": "Streams Last 30 Days (Millions)",
         "rawType": "float64",
         "type": "float"
        },
        {
         "name": "Skip Rate (%)",
         "rawType": "float64",
         "type": "float"
        }
       ],
       "ref": "be733d11-4caa-474f-a5b2-5362a2b00209",
       "rows": [
        [
         "0",
         "Germany",
         "Taylor Swift",
         "1989 (Taylor's Version)",
         "K-pop",
         "2019.0",
         "23.1",
         "3695.53",
         "14240.35",
         "4.28",
         "Free",
         "118.51",
         "2.24"
        ],
        [
         "1",
         "Brazil",
         "The Weeknd",
         null,
         "R&B",
         "2022.0",
         "60.6",
         "2828.16",
         "11120.44",
         "3.9",
         "Premium",
         "44.87",
         "23.98"
        ],
        [
         "2",
         "United States",
         "Post Malone",
         "Austin",
         "Reggaeton",
         "2023.0",
         "42.84",
         "1425.46",
         null,
         "4.03",
         "Free",
         "19.46",
         "4.77"
        ]
       ],
       "shape": {
        "columns": 12,
        "rows": 3
       }
      },
      "text/html": [
       "<div>\n",
       "<style scoped>\n",
       "    .dataframe tbody tr th:only-of-type {\n",
       "        vertical-align: middle;\n",
       "    }\n",
       "\n",
       "    .dataframe tbody tr th {\n",
       "        vertical-align: top;\n",
       "    }\n",
       "\n",
       "    .dataframe thead th {\n",
       "        text-align: right;\n",
       "    }\n",
       "</style>\n",
       "<table border=\"1\" class=\"dataframe\">\n",
       "  <thead>\n",
       "    <tr style=\"text-align: right;\">\n",
       "      <th></th>\n",
       "      <th>Country</th>\n",
       "      <th>Artist</th>\n",
       "      <th>Album</th>\n",
       "      <th>Genre</th>\n",
       "      <th>Release Year</th>\n",
       "      <th>Monthly Listeners (Millions)</th>\n",
       "      <th>Total Streams (Millions)</th>\n",
       "      <th>Total Hours Streamed (Millions)</th>\n",
       "      <th>Avg Stream Duration (Min)</th>\n",
       "      <th>Platform Type</th>\n",
       "      <th>Streams Last 30 Days (Millions)</th>\n",
       "      <th>Skip Rate (%)</th>\n",
       "    </tr>\n",
       "  </thead>\n",
       "  <tbody>\n",
       "    <tr>\n",
       "      <th>0</th>\n",
       "      <td>Germany</td>\n",
       "      <td>Taylor Swift</td>\n",
       "      <td>1989 (Taylor's Version)</td>\n",
       "      <td>K-pop</td>\n",
       "      <td>2019.0</td>\n",
       "      <td>23.10</td>\n",
       "      <td>3695.53</td>\n",
       "      <td>14240.35</td>\n",
       "      <td>4.28</td>\n",
       "      <td>Free</td>\n",
       "      <td>118.51</td>\n",
       "      <td>2.24</td>\n",
       "    </tr>\n",
       "    <tr>\n",
       "      <th>1</th>\n",
       "      <td>Brazil</td>\n",
       "      <td>The Weeknd</td>\n",
       "      <td>NaN</td>\n",
       "      <td>R&amp;B</td>\n",
       "      <td>2022.0</td>\n",
       "      <td>60.60</td>\n",
       "      <td>2828.16</td>\n",
       "      <td>11120.44</td>\n",
       "      <td>3.90</td>\n",
       "      <td>Premium</td>\n",
       "      <td>44.87</td>\n",
       "      <td>23.98</td>\n",
       "    </tr>\n",
       "    <tr>\n",
       "      <th>2</th>\n",
       "      <td>United States</td>\n",
       "      <td>Post Malone</td>\n",
       "      <td>Austin</td>\n",
       "      <td>Reggaeton</td>\n",
       "      <td>2023.0</td>\n",
       "      <td>42.84</td>\n",
       "      <td>1425.46</td>\n",
       "      <td>NaN</td>\n",
       "      <td>4.03</td>\n",
       "      <td>Free</td>\n",
       "      <td>19.46</td>\n",
       "      <td>4.77</td>\n",
       "    </tr>\n",
       "  </tbody>\n",
       "</table>\n",
       "</div>"
      ],
      "text/plain": [
       "         Country        Artist                    Album      Genre  \\\n",
       "0        Germany  Taylor Swift  1989 (Taylor's Version)      K-pop   \n",
       "1         Brazil    The Weeknd                      NaN        R&B   \n",
       "2  United States   Post Malone                   Austin  Reggaeton   \n",
       "\n",
       "   Release Year  Monthly Listeners (Millions)  Total Streams (Millions)  \\\n",
       "0        2019.0                         23.10                   3695.53   \n",
       "1        2022.0                         60.60                   2828.16   \n",
       "2        2023.0                         42.84                   1425.46   \n",
       "\n",
       "   Total Hours Streamed (Millions)  Avg Stream Duration (Min) Platform Type  \\\n",
       "0                         14240.35                       4.28          Free   \n",
       "1                         11120.44                       3.90       Premium   \n",
       "2                              NaN                       4.03          Free   \n",
       "\n",
       "   Streams Last 30 Days (Millions)  Skip Rate (%)  \n",
       "0                           118.51           2.24  \n",
       "1                            44.87          23.98  \n",
       "2                            19.46           4.77  "
      ]
     },
     "execution_count": 21,
     "metadata": {},
     "output_type": "execute_result"
    }
   ],
   "source": [
    "dataset = pd.read_csv(r\"C:\\Users\\punee\\OneDrive\\Documents\\machine learning\\machine learning\\archive\\Spotify_2024_Global_Streaming_Data.csv\")\n",
    "dataset.head(3)"
   ]
  },
  {
   "cell_type": "code",
   "execution_count": 22,
   "metadata": {},
   "outputs": [
    {
     "data": {
      "text/plain": [
       "(500, 12)"
      ]
     },
     "execution_count": 22,
     "metadata": {},
     "output_type": "execute_result"
    }
   ],
   "source": [
    "dataset.shape\n",
    "# dataset.shape[0]  # Number of rows\n",
    "# dataset.shape[1]  # Number of columns"
   ]
  },
  {
   "cell_type": "code",
   "execution_count": 23,
   "metadata": {},
   "outputs": [
    {
     "data": {
      "application/vnd.microsoft.datawrangler.viewer.v0+json": {
       "columns": [
        {
         "name": "index",
         "rawType": "int64",
         "type": "integer"
        },
        {
         "name": "Country",
         "rawType": "bool",
         "type": "boolean"
        },
        {
         "name": "Artist",
         "rawType": "bool",
         "type": "boolean"
        },
        {
         "name": "Album",
         "rawType": "bool",
         "type": "boolean"
        },
        {
         "name": "Genre",
         "rawType": "bool",
         "type": "boolean"
        },
        {
         "name": "Release Year",
         "rawType": "bool",
         "type": "boolean"
        },
        {
         "name": "Monthly Listeners (Millions)",
         "rawType": "bool",
         "type": "boolean"
        },
        {
         "name": "Total Streams (Millions)",
         "rawType": "bool",
         "type": "boolean"
        },
        {
         "name": "Total Hours Streamed (Millions)",
         "rawType": "bool",
         "type": "boolean"
        },
        {
         "name": "Avg Stream Duration (Min)",
         "rawType": "bool",
         "type": "boolean"
        },
        {
         "name": "Platform Type",
         "rawType": "bool",
         "type": "boolean"
        },
        {
         "name": "Streams Last 30 Days (Millions)",
         "rawType": "bool",
         "type": "boolean"
        },
        {
         "name": "Skip Rate (%)",
         "rawType": "bool",
         "type": "boolean"
        }
       ],
       "ref": "9f0bef02-3d79-4679-bfcd-755cf09c9000",
       "rows": [
        [
         "0",
         "False",
         "False",
         "False",
         "False",
         "False",
         "False",
         "False",
         "False",
         "False",
         "False",
         "False",
         "False"
        ],
        [
         "1",
         "False",
         "False",
         "True",
         "False",
         "False",
         "False",
         "False",
         "False",
         "False",
         "False",
         "False",
         "False"
        ],
        [
         "2",
         "False",
         "False",
         "False",
         "False",
         "False",
         "False",
         "False",
         "True",
         "False",
         "False",
         "False",
         "False"
        ],
        [
         "3",
         "False",
         "False",
         "False",
         "False",
         "True",
         "False",
         "False",
         "False",
         "False",
         "False",
         "False",
         "False"
        ],
        [
         "4",
         "False",
         "False",
         "False",
         "False",
         "False",
         "False",
         "False",
         "False",
         "False",
         "False",
         "False",
         "False"
        ],
        [
         "5",
         "False",
         "False",
         "False",
         "False",
         "False",
         "False",
         "False",
         "False",
         "False",
         "False",
         "False",
         "False"
        ],
        [
         "6",
         "False",
         "False",
         "False",
         "False",
         "False",
         "False",
         "False",
         "False",
         "False",
         "False",
         "False",
         "True"
        ],
        [
         "7",
         "False",
         "False",
         "False",
         "False",
         "False",
         "False",
         "False",
         "False",
         "False",
         "False",
         "False",
         "False"
        ],
        [
         "8",
         "False",
         "False",
         "False",
         "False",
         "False",
         "False",
         "False",
         "False",
         "False",
         "False",
         "False",
         "False"
        ],
        [
         "9",
         "False",
         "False",
         "False",
         "False",
         "False",
         "False",
         "False",
         "False",
         "False",
         "False",
         "False",
         "False"
        ],
        [
         "10",
         "False",
         "False",
         "False",
         "False",
         "False",
         "False",
         "False",
         "False",
         "False",
         "False",
         "False",
         "False"
        ],
        [
         "11",
         "False",
         "False",
         "False",
         "False",
         "False",
         "False",
         "False",
         "False",
         "False",
         "True",
         "False",
         "False"
        ],
        [
         "12",
         "False",
         "False",
         "False",
         "False",
         "False",
         "False",
         "False",
         "False",
         "False",
         "False",
         "False",
         "False"
        ],
        [
         "13",
         "False",
         "False",
         "False",
         "False",
         "False",
         "False",
         "False",
         "False",
         "False",
         "False",
         "False",
         "False"
        ],
        [
         "14",
         "False",
         "False",
         "False",
         "False",
         "False",
         "False",
         "False",
         "False",
         "False",
         "False",
         "True",
         "False"
        ],
        [
         "15",
         "False",
         "False",
         "False",
         "False",
         "False",
         "False",
         "False",
         "False",
         "False",
         "False",
         "False",
         "False"
        ],
        [
         "16",
         "False",
         "False",
         "False",
         "False",
         "False",
         "False",
         "False",
         "False",
         "False",
         "False",
         "False",
         "False"
        ],
        [
         "17",
         "False",
         "False",
         "False",
         "False",
         "False",
         "False",
         "False",
         "False",
         "False",
         "False",
         "False",
         "False"
        ],
        [
         "18",
         "False",
         "False",
         "False",
         "False",
         "False",
         "False",
         "False",
         "False",
         "False",
         "False",
         "False",
         "False"
        ],
        [
         "19",
         "False",
         "False",
         "False",
         "False",
         "False",
         "False",
         "False",
         "False",
         "False",
         "False",
         "False",
         "False"
        ],
        [
         "20",
         "False",
         "False",
         "False",
         "False",
         "False",
         "False",
         "False",
         "False",
         "False",
         "False",
         "False",
         "False"
        ],
        [
         "21",
         "False",
         "False",
         "False",
         "False",
         "False",
         "False",
         "False",
         "False",
         "False",
         "False",
         "False",
         "False"
        ],
        [
         "22",
         "False",
         "False",
         "False",
         "False",
         "False",
         "False",
         "False",
         "False",
         "False",
         "False",
         "False",
         "False"
        ],
        [
         "23",
         "False",
         "False",
         "False",
         "False",
         "False",
         "False",
         "False",
         "False",
         "False",
         "False",
         "False",
         "False"
        ],
        [
         "24",
         "False",
         "False",
         "False",
         "False",
         "False",
         "False",
         "False",
         "False",
         "False",
         "False",
         "False",
         "False"
        ],
        [
         "25",
         "False",
         "False",
         "False",
         "False",
         "False",
         "False",
         "False",
         "False",
         "False",
         "False",
         "False",
         "False"
        ],
        [
         "26",
         "False",
         "False",
         "False",
         "False",
         "False",
         "False",
         "False",
         "False",
         "False",
         "False",
         "False",
         "False"
        ],
        [
         "27",
         "False",
         "False",
         "False",
         "False",
         "False",
         "False",
         "False",
         "False",
         "False",
         "False",
         "False",
         "False"
        ],
        [
         "28",
         "False",
         "False",
         "False",
         "False",
         "False",
         "False",
         "False",
         "False",
         "False",
         "False",
         "False",
         "False"
        ],
        [
         "29",
         "False",
         "False",
         "False",
         "False",
         "False",
         "False",
         "False",
         "False",
         "False",
         "False",
         "False",
         "False"
        ],
        [
         "30",
         "False",
         "False",
         "False",
         "False",
         "False",
         "False",
         "False",
         "False",
         "False",
         "False",
         "False",
         "False"
        ],
        [
         "31",
         "False",
         "False",
         "False",
         "False",
         "False",
         "False",
         "False",
         "False",
         "False",
         "False",
         "False",
         "False"
        ],
        [
         "32",
         "False",
         "False",
         "False",
         "False",
         "False",
         "False",
         "False",
         "False",
         "False",
         "False",
         "False",
         "False"
        ],
        [
         "33",
         "False",
         "False",
         "False",
         "False",
         "False",
         "False",
         "False",
         "False",
         "False",
         "False",
         "False",
         "False"
        ],
        [
         "34",
         "False",
         "False",
         "False",
         "False",
         "False",
         "False",
         "False",
         "False",
         "False",
         "False",
         "False",
         "False"
        ],
        [
         "35",
         "False",
         "False",
         "False",
         "False",
         "False",
         "False",
         "False",
         "False",
         "False",
         "False",
         "False",
         "False"
        ],
        [
         "36",
         "False",
         "False",
         "False",
         "False",
         "False",
         "False",
         "False",
         "False",
         "False",
         "False",
         "False",
         "False"
        ],
        [
         "37",
         "False",
         "False",
         "False",
         "False",
         "False",
         "False",
         "False",
         "False",
         "False",
         "False",
         "False",
         "False"
        ],
        [
         "38",
         "False",
         "False",
         "False",
         "False",
         "False",
         "False",
         "False",
         "False",
         "False",
         "False",
         "False",
         "False"
        ],
        [
         "39",
         "False",
         "False",
         "False",
         "False",
         "False",
         "False",
         "False",
         "False",
         "False",
         "False",
         "False",
         "False"
        ],
        [
         "40",
         "False",
         "False",
         "False",
         "False",
         "False",
         "False",
         "False",
         "False",
         "False",
         "False",
         "False",
         "False"
        ],
        [
         "41",
         "False",
         "False",
         "False",
         "False",
         "False",
         "False",
         "False",
         "False",
         "False",
         "False",
         "False",
         "False"
        ],
        [
         "42",
         "False",
         "False",
         "False",
         "False",
         "False",
         "False",
         "False",
         "False",
         "False",
         "False",
         "False",
         "False"
        ],
        [
         "43",
         "False",
         "False",
         "False",
         "False",
         "False",
         "False",
         "False",
         "False",
         "False",
         "False",
         "False",
         "False"
        ],
        [
         "44",
         "False",
         "False",
         "False",
         "False",
         "False",
         "False",
         "False",
         "False",
         "False",
         "False",
         "False",
         "False"
        ],
        [
         "45",
         "False",
         "False",
         "False",
         "False",
         "False",
         "False",
         "False",
         "False",
         "False",
         "False",
         "False",
         "False"
        ],
        [
         "46",
         "False",
         "False",
         "False",
         "False",
         "False",
         "False",
         "False",
         "False",
         "False",
         "False",
         "False",
         "False"
        ],
        [
         "47",
         "False",
         "False",
         "False",
         "False",
         "False",
         "False",
         "False",
         "False",
         "False",
         "False",
         "False",
         "False"
        ],
        [
         "48",
         "False",
         "False",
         "False",
         "False",
         "False",
         "False",
         "False",
         "False",
         "False",
         "False",
         "False",
         "False"
        ],
        [
         "49",
         "False",
         "False",
         "False",
         "False",
         "False",
         "False",
         "False",
         "False",
         "False",
         "False",
         "False",
         "False"
        ]
       ],
       "shape": {
        "columns": 12,
        "rows": 500
       }
      },
      "text/html": [
       "<div>\n",
       "<style scoped>\n",
       "    .dataframe tbody tr th:only-of-type {\n",
       "        vertical-align: middle;\n",
       "    }\n",
       "\n",
       "    .dataframe tbody tr th {\n",
       "        vertical-align: top;\n",
       "    }\n",
       "\n",
       "    .dataframe thead th {\n",
       "        text-align: right;\n",
       "    }\n",
       "</style>\n",
       "<table border=\"1\" class=\"dataframe\">\n",
       "  <thead>\n",
       "    <tr style=\"text-align: right;\">\n",
       "      <th></th>\n",
       "      <th>Country</th>\n",
       "      <th>Artist</th>\n",
       "      <th>Album</th>\n",
       "      <th>Genre</th>\n",
       "      <th>Release Year</th>\n",
       "      <th>Monthly Listeners (Millions)</th>\n",
       "      <th>Total Streams (Millions)</th>\n",
       "      <th>Total Hours Streamed (Millions)</th>\n",
       "      <th>Avg Stream Duration (Min)</th>\n",
       "      <th>Platform Type</th>\n",
       "      <th>Streams Last 30 Days (Millions)</th>\n",
       "      <th>Skip Rate (%)</th>\n",
       "    </tr>\n",
       "  </thead>\n",
       "  <tbody>\n",
       "    <tr>\n",
       "      <th>0</th>\n",
       "      <td>False</td>\n",
       "      <td>False</td>\n",
       "      <td>False</td>\n",
       "      <td>False</td>\n",
       "      <td>False</td>\n",
       "      <td>False</td>\n",
       "      <td>False</td>\n",
       "      <td>False</td>\n",
       "      <td>False</td>\n",
       "      <td>False</td>\n",
       "      <td>False</td>\n",
       "      <td>False</td>\n",
       "    </tr>\n",
       "    <tr>\n",
       "      <th>1</th>\n",
       "      <td>False</td>\n",
       "      <td>False</td>\n",
       "      <td>True</td>\n",
       "      <td>False</td>\n",
       "      <td>False</td>\n",
       "      <td>False</td>\n",
       "      <td>False</td>\n",
       "      <td>False</td>\n",
       "      <td>False</td>\n",
       "      <td>False</td>\n",
       "      <td>False</td>\n",
       "      <td>False</td>\n",
       "    </tr>\n",
       "    <tr>\n",
       "      <th>2</th>\n",
       "      <td>False</td>\n",
       "      <td>False</td>\n",
       "      <td>False</td>\n",
       "      <td>False</td>\n",
       "      <td>False</td>\n",
       "      <td>False</td>\n",
       "      <td>False</td>\n",
       "      <td>True</td>\n",
       "      <td>False</td>\n",
       "      <td>False</td>\n",
       "      <td>False</td>\n",
       "      <td>False</td>\n",
       "    </tr>\n",
       "    <tr>\n",
       "      <th>3</th>\n",
       "      <td>False</td>\n",
       "      <td>False</td>\n",
       "      <td>False</td>\n",
       "      <td>False</td>\n",
       "      <td>True</td>\n",
       "      <td>False</td>\n",
       "      <td>False</td>\n",
       "      <td>False</td>\n",
       "      <td>False</td>\n",
       "      <td>False</td>\n",
       "      <td>False</td>\n",
       "      <td>False</td>\n",
       "    </tr>\n",
       "    <tr>\n",
       "      <th>4</th>\n",
       "      <td>False</td>\n",
       "      <td>False</td>\n",
       "      <td>False</td>\n",
       "      <td>False</td>\n",
       "      <td>False</td>\n",
       "      <td>False</td>\n",
       "      <td>False</td>\n",
       "      <td>False</td>\n",
       "      <td>False</td>\n",
       "      <td>False</td>\n",
       "      <td>False</td>\n",
       "      <td>False</td>\n",
       "    </tr>\n",
       "    <tr>\n",
       "      <th>...</th>\n",
       "      <td>...</td>\n",
       "      <td>...</td>\n",
       "      <td>...</td>\n",
       "      <td>...</td>\n",
       "      <td>...</td>\n",
       "      <td>...</td>\n",
       "      <td>...</td>\n",
       "      <td>...</td>\n",
       "      <td>...</td>\n",
       "      <td>...</td>\n",
       "      <td>...</td>\n",
       "      <td>...</td>\n",
       "    </tr>\n",
       "    <tr>\n",
       "      <th>495</th>\n",
       "      <td>False</td>\n",
       "      <td>False</td>\n",
       "      <td>False</td>\n",
       "      <td>False</td>\n",
       "      <td>False</td>\n",
       "      <td>False</td>\n",
       "      <td>False</td>\n",
       "      <td>False</td>\n",
       "      <td>False</td>\n",
       "      <td>False</td>\n",
       "      <td>False</td>\n",
       "      <td>False</td>\n",
       "    </tr>\n",
       "    <tr>\n",
       "      <th>496</th>\n",
       "      <td>False</td>\n",
       "      <td>False</td>\n",
       "      <td>False</td>\n",
       "      <td>False</td>\n",
       "      <td>False</td>\n",
       "      <td>False</td>\n",
       "      <td>False</td>\n",
       "      <td>False</td>\n",
       "      <td>False</td>\n",
       "      <td>False</td>\n",
       "      <td>False</td>\n",
       "      <td>False</td>\n",
       "    </tr>\n",
       "    <tr>\n",
       "      <th>497</th>\n",
       "      <td>False</td>\n",
       "      <td>False</td>\n",
       "      <td>False</td>\n",
       "      <td>False</td>\n",
       "      <td>False</td>\n",
       "      <td>False</td>\n",
       "      <td>False</td>\n",
       "      <td>False</td>\n",
       "      <td>False</td>\n",
       "      <td>False</td>\n",
       "      <td>False</td>\n",
       "      <td>False</td>\n",
       "    </tr>\n",
       "    <tr>\n",
       "      <th>498</th>\n",
       "      <td>False</td>\n",
       "      <td>False</td>\n",
       "      <td>False</td>\n",
       "      <td>False</td>\n",
       "      <td>False</td>\n",
       "      <td>False</td>\n",
       "      <td>False</td>\n",
       "      <td>False</td>\n",
       "      <td>False</td>\n",
       "      <td>False</td>\n",
       "      <td>False</td>\n",
       "      <td>False</td>\n",
       "    </tr>\n",
       "    <tr>\n",
       "      <th>499</th>\n",
       "      <td>False</td>\n",
       "      <td>False</td>\n",
       "      <td>False</td>\n",
       "      <td>False</td>\n",
       "      <td>False</td>\n",
       "      <td>False</td>\n",
       "      <td>False</td>\n",
       "      <td>False</td>\n",
       "      <td>False</td>\n",
       "      <td>False</td>\n",
       "      <td>False</td>\n",
       "      <td>False</td>\n",
       "    </tr>\n",
       "  </tbody>\n",
       "</table>\n",
       "<p>500 rows × 12 columns</p>\n",
       "</div>"
      ],
      "text/plain": [
       "     Country  Artist  Album  Genre  Release Year  \\\n",
       "0      False   False  False  False         False   \n",
       "1      False   False   True  False         False   \n",
       "2      False   False  False  False         False   \n",
       "3      False   False  False  False          True   \n",
       "4      False   False  False  False         False   \n",
       "..       ...     ...    ...    ...           ...   \n",
       "495    False   False  False  False         False   \n",
       "496    False   False  False  False         False   \n",
       "497    False   False  False  False         False   \n",
       "498    False   False  False  False         False   \n",
       "499    False   False  False  False         False   \n",
       "\n",
       "     Monthly Listeners (Millions)  Total Streams (Millions)  \\\n",
       "0                           False                     False   \n",
       "1                           False                     False   \n",
       "2                           False                     False   \n",
       "3                           False                     False   \n",
       "4                           False                     False   \n",
       "..                            ...                       ...   \n",
       "495                         False                     False   \n",
       "496                         False                     False   \n",
       "497                         False                     False   \n",
       "498                         False                     False   \n",
       "499                         False                     False   \n",
       "\n",
       "     Total Hours Streamed (Millions)  Avg Stream Duration (Min)  \\\n",
       "0                              False                      False   \n",
       "1                              False                      False   \n",
       "2                               True                      False   \n",
       "3                              False                      False   \n",
       "4                              False                      False   \n",
       "..                               ...                        ...   \n",
       "495                            False                      False   \n",
       "496                            False                      False   \n",
       "497                            False                      False   \n",
       "498                            False                      False   \n",
       "499                            False                      False   \n",
       "\n",
       "     Platform Type  Streams Last 30 Days (Millions)  Skip Rate (%)  \n",
       "0            False                            False          False  \n",
       "1            False                            False          False  \n",
       "2            False                            False          False  \n",
       "3            False                            False          False  \n",
       "4            False                            False          False  \n",
       "..             ...                              ...            ...  \n",
       "495          False                            False          False  \n",
       "496          False                            False          False  \n",
       "497          False                            False          False  \n",
       "498          False                            False          False  \n",
       "499          False                            False          False  \n",
       "\n",
       "[500 rows x 12 columns]"
      ]
     },
     "execution_count": 23,
     "metadata": {},
     "output_type": "execute_result"
    }
   ],
   "source": [
    "dataset.isnull() # Check for null values"
   ]
  },
  {
   "cell_type": "code",
   "execution_count": 24,
   "metadata": {},
   "outputs": [
    {
     "data": {
      "text/plain": [
       "np.int64(6)"
      ]
     },
     "execution_count": 24,
     "metadata": {},
     "output_type": "execute_result"
    }
   ],
   "source": [
    "dataset.isnull().sum()  # Check for missing values in each column\n",
    "dataset.isnull().sum().sum()  # Total number of missing values"
   ]
  },
  {
   "cell_type": "code",
   "execution_count": 25,
   "metadata": {},
   "outputs": [
    {
     "data": {
      "application/vnd.microsoft.datawrangler.viewer.v0+json": {
       "columns": [
        {
         "name": "index",
         "rawType": "object",
         "type": "string"
        },
        {
         "name": "0",
         "rawType": "float64",
         "type": "float"
        }
       ],
       "ref": "be4bcbf0-9f8c-4559-a39a-eeb1eba61574",
       "rows": [
        [
         "Country",
         "0.0"
        ],
        [
         "Artist",
         "0.0"
        ],
        [
         "Album",
         "0.2"
        ],
        [
         "Genre",
         "0.0"
        ],
        [
         "Release Year",
         "0.2"
        ],
        [
         "Monthly Listeners (Millions)",
         "0.0"
        ],
        [
         "Total Streams (Millions)",
         "0.0"
        ],
        [
         "Total Hours Streamed (Millions)",
         "0.2"
        ],
        [
         "Avg Stream Duration (Min)",
         "0.0"
        ],
        [
         "Platform Type",
         "0.2"
        ],
        [
         "Streams Last 30 Days (Millions)",
         "0.2"
        ],
        [
         "Skip Rate (%)",
         "0.2"
        ]
       ],
       "shape": {
        "columns": 1,
        "rows": 12
       }
      },
      "text/plain": [
       "Country                            0.0\n",
       "Artist                             0.0\n",
       "Album                              0.2\n",
       "Genre                              0.0\n",
       "Release Year                       0.2\n",
       "Monthly Listeners (Millions)       0.0\n",
       "Total Streams (Millions)           0.0\n",
       "Total Hours Streamed (Millions)    0.2\n",
       "Avg Stream Duration (Min)          0.0\n",
       "Platform Type                      0.2\n",
       "Streams Last 30 Days (Millions)    0.2\n",
       "Skip Rate (%)                      0.2\n",
       "dtype: float64"
      ]
     },
     "execution_count": 25,
     "metadata": {},
     "output_type": "execute_result"
    }
   ],
   "source": [
    "(dataset.isnull().sum()/dataset.shape[0])*100  # Percentage of missing values in each column"
   ]
  },
  {
   "cell_type": "code",
   "execution_count": 26,
   "metadata": {},
   "outputs": [
    {
     "data": {
      "image/png": "[encoded data removed]",
      "text/plain": [
       "<Figure size 640x480 with 2 Axes>"
      ]
     },
     "metadata": {},
     "output_type": "display_data"
    }
   ],
   "source": [
    "sns.heatmap(dataset.isnull()) # Visualizing missing values with a heatmap\n",
    "plt.show() # Display the heatmap"
   ]
  },
  {
   "cell_type": "markdown",
   "metadata": {},
   "source": [
    "HANDING MISSING VALUES"
   ]
  },
  {
   "cell_type": "code",
   "execution_count": 27,
   "metadata": {},
   "outputs": [],
   "source": [
    "# dataset.drop(columns=[\"Release Year\"], inplace=True) # Dropping the 'Release Year' column\n"
   ]
  },
  {
   "cell_type": "code",
   "execution_count": 28,
   "metadata": {},
   "outputs": [],
   "source": [
    "# dataset.dropna(inplace=True) # Dropping rows with any missing values"
   ]
  },
  {
   "cell_type": "markdown",
   "metadata": {},
   "source": [
    "HANDING MISSING VALUES (IMPUTING CATEGORY DATA)"
   ]
  },
  {
   "cell_type": "code",
   "execution_count": 30,
   "metadata": {},
   "outputs": [],
   "source": [
    "# dataset.fillna(10).head(10) # Filling missing values with '10' (not recommended for numerical data)"
   ]
  },
  {
   "cell_type": "code",
   "execution_count": 31,
   "metadata": {},
   "outputs": [
    {
     "name": "stdout",
     "output_type": "stream",
     "text": [
      "<class 'pandas.core.frame.DataFrame'>\n",
      "RangeIndex: 500 entries, 0 to 499\n",
      "Data columns (total 12 columns):\n",
      " #   Column                           Non-Null Count  Dtype  \n",
      "---  ------                           --------------  -----  \n",
      " 0   Country                          500 non-null    object \n",
      " 1   Artist                           500 non-null    object \n",
      " 2   Album                            499 non-null    object \n",
      " 3   Genre                            500 non-null    object \n",
      " 4   Release Year                     499 non-null    float64\n",
      " 5   Monthly Listeners (Millions)     500 non-null    float64\n",
      " 6   Total Streams (Millions)         500 non-null    float64\n",
      " 7   Total Hours Streamed (Millions)  499 non-null    float64\n",
      " 8   Avg Stream Duration (Min)        500 non-null    float64\n",
      " 9   Platform Type                    499 non-null    object \n",
      " 10  Streams Last 30 Days (Millions)  499 non-null    float64\n",
      " 11  Skip Rate (%)                    499 non-null    float64\n",
      "dtypes: float64(7), object(5)\n",
      "memory usage: 47.0+ KB\n"
     ]
    }
   ],
   "source": [
    "dataset.info()  # Displaying information about the dataset, including data types and non-null counts"
   ]
  },
  {
   "cell_type": "code",
   "execution_count": 34,
   "metadata": {},
   "outputs": [],
   "source": [
    "#bfill - Backward fill missing values\n",
    "#ffill - Forward fill missing values\n",
    "#axis=0 - Fill along the index (rows)\n",
    "#axis=1 - Fill along the columns\n",
    "# dataset.fillna(method='bfill', axis=0)  # Backward fill missing values along rows\n"
   ]
  }
 ],
 "metadata": {
  "kernelspec": {
   "display_name": "Python 3",
   "language": "python",
   "name": "python3"
  },
  "language_info": {
   "codemirror_mode": {
    "name": "ipython",
    "version": 3
   },
   "file_extension": ".py",
   "mimetype": "text/x-python",
   "name": "python",
   "nbconvert_exporter": "python",
   "pygments_lexer": "ipython3",
   "version": "3.13.5"
  }
 },
 "nbformat": 4,
 "nbformat_minor": 2
}
